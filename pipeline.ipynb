{
  "nbformat": 4,
  "nbformat_minor": 0,
  "metadata": {
    "colab": {
      "provenance": []
    },
    "kernelspec": {
      "name": "python3",
      "display_name": "Python 3"
    },
    "language_info": {
      "name": "python"
    }
  },
  "cells": [
    {
      "cell_type": "code",
      "execution_count": null,
      "metadata": {
        "id": "p9j9EFoA4kQ4"
      },
      "outputs": [],
      "source": [
        "import os\n",
        "import numpy as np\n",
        "from PIL import Image, ImageOps"
      ]
    },
    {
      "cell_type": "code",
      "source": [
        "class ImagePreprocessor:\n",
        "    def __init__(self):\n",
        "        pass\n",
        "\n",
        "    def crop(self, image: np.ndarray, top: int, left: int, height: int, width: int) -> np.ndarray:\n",
        "        image_pil = Image.fromarray(image)\n",
        "        cropped_image = image_pil.crop((left, top, left + width, top + height))\n",
        "        return np.array(cropped_image)\n",
        "\n",
        "    def center_crop(self, image: np.ndarray, size: int) -> np.ndarray:\n",
        "        image_pil = Image.fromarray(image)\n",
        "        width, height = image_pil.size\n",
        "        left = (width - size) // 2\n",
        "        top = (height - size) // 2\n",
        "        right = left + size\n",
        "        bottom = top + size\n",
        "        cropped_image = image_pil.crop((left, top, right, bottom))\n",
        "        return np.array(cropped_image)\n",
        "\n",
        "    def random_crop(self, image: np.ndarray, size: int) -> np.ndarray:\n",
        "        image_pil = Image.fromarray(image)\n",
        "        width, height = image_pil.size\n",
        "        left = np.random.randint(0, width - size)\n",
        "        top = np.random.randint(0, height - size)\n",
        "        cropped_image = image_pil.crop((left, top, left + size, top + size))\n",
        "        return np.array(cropped_image)\n",
        "\n",
        "    def random_vertical_flip(self, image: np.ndarray, probability: float = 0.25) -> np.ndarray:\n",
        "        if np.random.rand() < probability:\n",
        "            image_pil = Image.fromarray(image)\n",
        "            flipped_image = image_pil.transpose(Image.FLIP_TOP_BOTTOM)\n",
        "            return np.array(flipped_image)\n",
        "        return image\n",
        "\n",
        "    def random_horizontal_flip(self, image: np.ndarray, probability: float = 0.25) -> np.ndarray:\n",
        "        if np.random.rand() < probability:\n",
        "            image_pil = Image.fromarray(image)\n",
        "            flipped_image = image_pil.transpose(Image.FLIP_LEFT_RIGHT)\n",
        "            return np.array(flipped_image)\n",
        "        return image\n",
        "\n",
        "    def random_invert(self, image: np.ndarray, probability: float = 0.15) -> np.ndarray:\n",
        "        if np.random.rand() < probability:\n",
        "            image_pil = Image.fromarray(image)\n",
        "            inverted_image = ImageOps.invert(image_pil)\n",
        "            return np.array(inverted_image)\n",
        "        return image\n",
        "\n",
        "    def normalize(self, image: np.ndarray, mean: float, std: float) -> np.ndarray:\n",
        "        normalized_image = (image - mean) / std\n",
        "        return normalized_image\n",
        "\n",
        "    def grayscale(self, image: np.ndarray) -> np.ndarray:\n",
        "        image_pil = Image.fromarray(image)\n",
        "        gray_image = ImageOps.grayscale(image_pil)\n",
        "        return np.array(gray_image)"
      ],
      "metadata": {
        "id": "GNSsilz54pVA"
      },
      "execution_count": null,
      "outputs": []
    },
    {
      "cell_type": "code",
      "source": [
        "def process_directory(input_dir, output_dir):\n",
        "    os.makedirs(output_dir, exist_ok=True)\n",
        "\n",
        "    preprocessor = ImagePreprocessor()\n",
        "\n",
        "    for root, _, files in os.walk(input_dir):\n",
        "        for filename in files:\n",
        "            if filename.endswith(\".JPEG\"):\n",
        "                image_path = os.path.join(root, filename)\n",
        "                image = np.array(Image.open(image_path))\n",
        "\n",
        "                # image = preprocessor.center_crop(image, size=224)\n",
        "                # image = preprocessor.random_horizontal_flip(image)\n",
        "                # image = preprocessor.random_invert(image)\n",
        "                # image = preprocessor.grayscale(image)\n",
        "                # image = preprocessor.normalize(image, mean=127.5, std=127.5)\n",
        "\n",
        "                result_image = Image.fromarray(image)\n",
        "\n",
        "                if result_image.mode == 'F':\n",
        "                    result_image = result_image.convert('L')\n",
        "\n",
        "                relative_path = os.path.relpath(root, input_dir)\n",
        "                save_dir = os.path.join(output_dir, relative_path)\n",
        "                os.makedirs(save_dir, exist_ok=True)\n",
        "                result_image_path = os.path.join(save_dir, filename)\n",
        "\n",
        "                result_image.save(result_image_path)"
      ],
      "metadata": {
        "id": "WnNOKxS-4u0l"
      },
      "execution_count": null,
      "outputs": []
    },
    {
      "cell_type": "code",
      "source": [
        "if __name__ == \"__main__\":\n",
        "    input_dir = 'imagenette2/train'\n",
        "    output_dir = 'processed_images'\n",
        "\n",
        "    process_directory(input_dir, output_dir)"
      ],
      "metadata": {
        "id": "ldXAMreB45qF"
      },
      "execution_count": null,
      "outputs": []
    }
  ]
}